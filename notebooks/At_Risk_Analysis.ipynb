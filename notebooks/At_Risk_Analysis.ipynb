{
 "cells": [
  {
   "cell_type": "markdown",
   "metadata": {},
   "source": [
    "This notebook will begin the analysis of at-risk students\n"
   ]
  },
  {
   "cell_type": "code",
   "execution_count": 6,
   "metadata": {},
   "outputs": [
    {
     "name": "stdout",
     "output_type": "stream",
     "text": [
      "Didactic Sheets: ['Dataset COH 2020', 'Cohort of 2020 (C22)', 'Dataset COH2021', 'Cohort of 2021 (C23)', 'Dataset COH2022', 'Cohort of 2022 (C24)', 'Dataset COH2023', 'Cohort of 2023 (C25)']\n",
      "Dataset COH 2020\n",
      "  Unique Masked ID Course Code                          Course Name   Grade\n",
      "0       COH2020-01     PAS 612                Clinical Medicine III   96.17\n",
      "1       COH2020-01     PAS 622                         PA Practicum  100.00\n",
      "2       COH2020-01     PAS 632             Pharmacotherapeutics III   95.12\n",
      "3       COH2020-01     PAS 642                  Pathophysiology III   93.53\n",
      "4       COH2020-01     PAS 660  Diagnostic & Therapeutic Procedures   91.08\n"
     ]
    }
   ],
   "source": [
    "import pandas as pd\n",
    "\n",
    "# Load Didactic Grades (All Sheets)\n",
    "didactic_path = r\"C:\\Users\\chris\\Documents\\PA_Data_Analysis\\PA-Student-Performance-Analysis\\data\\Didactic_Grades_Cohort_20-23.xlsx\" \n",
    "didactic_sheets = pd.read_excel(didactic_path, sheet_name=None)  # Load all sheets\n",
    "\n",
    "# Load PANCE Scores\n",
    "pance_path = r\"C:\\Users\\chris\\Documents\\PA_Data_Analysis\\PA-Student-Performance-Analysis\\data\\PANCE_Scores_Cohort_2020-2022.xlsx\"\n",
    "pance_df = pd.read_excel(pance_path, sheet_name=None)  # Load all sheets\n",
    "\n",
    "# Load course catalog excel file\n",
    "course_catalog_path = r\"C:\\Users\\chris\\Documents\\PA_Data_Analysis\\PA-Student-Performance-Analysis\\data\\Course_Catalog.xlsx\"\n",
    "course_catalog_df = pd.read_excel(course_catalog_path, sheet_name=\"Course_Catalog\") \n",
    "\n",
    "# Check available sheets in Didactic file\n",
    "print(\"Didactic Sheets:\", list(didactic_sheets.keys()))\n",
    "\n",
    "# Preview first sheet\n",
    "first_sheet_name = list(didactic_sheets.keys())[0]\n",
    "print(first_sheet_name)\n",
    "didactic1_df = didactic_sheets[first_sheet_name]  # Load first sheet as example\n",
    "print(didactic1_df.head())"
   ]
  },
  {
   "cell_type": "code",
   "execution_count": 3,
   "metadata": {},
   "outputs": [
    {
     "name": "stdout",
     "output_type": "stream",
     "text": [
      "Cohort 2020 — Mean: 95.48, Std Dev: 1.68, At-Risk Cutoff: 93.80\n",
      "Risk Category\n",
      "Safe       26\n",
      "At Risk     4\n",
      "Name: count, dtype: int64\n",
      "   Unique Masked ID  Avg Grade Cohort Year Risk Category\n",
      "0        COH2020-01  96.347778        2020          Safe\n",
      "1        COH2020-02  96.312778        2020          Safe\n",
      "2        COH2020-03  91.074444        2020       At Risk\n",
      "3        COH2020-04  98.145000        2020          Safe\n",
      "4        COH2020-05  93.620000        2020       At Risk\n",
      "5        COH2020-06  96.482222        2020          Safe\n",
      "6        COH2020-07  96.373889        2020          Safe\n",
      "7        COH2020-08  96.432222        2020          Safe\n",
      "8        COH2020-09  96.047778        2020          Safe\n",
      "9        COH2020-10  94.120000        2020          Safe\n",
      "10       COH2020-11  96.210000        2020          Safe\n",
      "11       COH2020-12  98.308889        2020          Safe\n",
      "12       COH2020-13  94.627778        2020          Safe\n",
      "13       COH2020-14  94.906667        2020          Safe\n",
      "14       COH2020-15  95.938889        2020          Safe\n",
      "15       COH2020-16  96.749444        2020          Safe\n",
      "16       COH2020-17  96.123333        2020          Safe\n",
      "17       COH2020-18  94.598889        2020          Safe\n",
      "18       COH2020-19  96.498889        2020          Safe\n",
      "19       COH2020-20  94.078889        2020          Safe\n",
      "20       COH2020-21  95.458333        2020          Safe\n",
      "21       COH2020-22  95.010000        2020          Safe\n",
      "22       COH2020-23  94.005000        2020          Safe\n",
      "23       COH2020-24  92.468889        2020       At Risk\n",
      "24       COH2020-25  96.073889        2020          Safe\n",
      "25       COH2020-26  97.751667        2020          Safe\n",
      "26       COH2020-27  92.185000        2020       At Risk\n",
      "27       COH2020-28  96.680556        2020          Safe\n",
      "28       COH2020-29  95.373333        2020          Safe\n",
      "29       COH2020-30  96.266111        2020          Safe\n"
     ]
    }
   ],
   "source": [
    "def flag_at_risk(df, cohort_year):\n",
    "    student_avg = df.groupby(\"Unique Masked ID\")[\"Grade\"].mean().reset_index()\n",
    "    student_avg = student_avg.rename(columns={\"Grade\": \"Avg Grade\"})\n",
    "    student_avg[\"Cohort Year\"] = cohort_year\n",
    "\n",
    "    mean = student_avg[\"Avg Grade\"].mean()\n",
    "    std = student_avg[\"Avg Grade\"].std()\n",
    "\n",
    "    def get_flag(grade):\n",
    "        if grade < (mean - std):  \n",
    "            return \"At Risk\"\n",
    "        elif grade < 80:                         \n",
    "            return \"Borderline\"\n",
    "        else:\n",
    "            return \"Safe\" \n",
    "\n",
    "    # This line must assign back\n",
    "    student_avg[\"Risk Category\"] = student_avg[\"Avg Grade\"].apply(get_flag)\n",
    "\n",
    "    return student_avg\n",
    "\n",
    "cohort_2020_flags = flag_at_risk(didactic1_df, \"2020\")\n",
    "\n",
    "# Calculate mean and std for cohort 2020\n",
    "mean = cohort_2020_flags[\"Avg Grade\"].mean()\n",
    "\n",
    "std = cohort_2020_flags[\"Avg Grade\"].std()\n",
    "at_risk_cutoff = mean - std\n",
    "\n",
    "print(f\"Cohort 2020 — Mean: {mean:.2f}, Std Dev: {std:.2f}, At-Risk Cutoff: {at_risk_cutoff:.2f}\")\n",
    "\n",
    "print(cohort_2020_flags[\"Risk Category\"].value_counts())\n",
    "\n",
    "\n",
    "print(cohort_2020_flags.head(30))\n",
    "\n"
   ]
  },
  {
   "cell_type": "markdown",
   "metadata": {},
   "source": [
    "We need to do a weighted average because the pass/fail classes are heavily affecting the grades."
   ]
  },
  {
   "cell_type": "code",
   "execution_count": 7,
   "metadata": {},
   "outputs": [
    {
     "name": "stdout",
     "output_type": "stream",
     "text": [
      "  Unique Masked ID Course Code                          Course Name   Grade  \\\n",
      "0       COH2020-01     PAS 612                Clinical Medicine III   96.17   \n",
      "1       COH2020-01     PAS 622                         PA Practicum  100.00   \n",
      "2       COH2020-01     PAS 632             Pharmacotherapeutics III   95.12   \n",
      "3       COH2020-01     PAS 642                  Pathophysiology III   93.53   \n",
      "4       COH2020-01     PAS 660  Diagnostic & Therapeutic Procedures   91.08   \n",
      "\n",
      "  Semester                                         Class Name  Credit Hours  \\\n",
      "0   Summer     Clinical Medicine for Physician Assistants III           6.0   \n",
      "1   Summer                      Physician Assistant Practicum           3.0   \n",
      "2   Summer  Pharmacotherapeutics for Physician Assistants III           3.0   \n",
      "3   Summer       Pathophysiology for Physician Assistants III           3.0   \n",
      "4   Summer    Patient Assessment for Physician Assistants III           3.0   \n",
      "\n",
      "  Pass/Fail  \n",
      "0     False  \n",
      "1     False  \n",
      "2     False  \n",
      "3     False  \n",
      "4     False  \n"
     ]
    }
   ],
   "source": [
    "didactic1_df_merged = didactic1_df.merge(course_catalog_df, on=\"Course Code\", how=\"left\")\n",
    "\n",
    "# Check if the merge was successful\n",
    "print(didactic1_df_merged.head())"
   ]
  },
  {
   "cell_type": "code",
   "execution_count": 8,
   "metadata": {},
   "outputs": [],
   "source": [
    "def calculate_weighted_avg(df):\n",
    "    # Ignore Pass/Fail by setting Credit Hours to 0\n",
    "    df = df.copy()\n",
    "    df.loc[df[\"Pass/Fail\"] == True, \"Credit Hours\"] = 0\n",
    "\n",
    "    # Calculate Weighted Grade\n",
    "    df[\"Weighted Grade\"] = df[\"Grade\"] * df[\"Credit Hours\"]\n",
    "\n",
    "    # Compute Weighted Avg per Student\n",
    "    weighted_avg = df.groupby(\"Unique Masked ID\").agg({\n",
    "        \"Weighted Grade\": \"sum\",\n",
    "        \"Credit Hours\": \"sum\"\n",
    "    }).reset_index()\n",
    "\n",
    "    weighted_avg[\"Avg Grade\"] = weighted_avg[\"Weighted Grade\"] / weighted_avg[\"Credit Hours\"]\n",
    "    return weighted_avg\n"
   ]
  },
  {
   "cell_type": "code",
   "execution_count": 9,
   "metadata": {},
   "outputs": [],
   "source": [
    "def flag_at_risk_weighted(df):\n",
    "    weighted_avg = calculate_weighted_avg(df)\n",
    "    #weighted_avg[\"Cohort Year\"] = cohort_year\n",
    "\n",
    "    def categorize(grade):\n",
    "        if grade < 85:\n",
    "            return \"At Risk\"\n",
    "        elif grade < 90:\n",
    "            return \"Borderline\"\n",
    "        else:\n",
    "            return \"Safe\"\n",
    "\n",
    "    weighted_avg[\"Risk Category\"] = weighted_avg[\"Avg Grade\"].apply(categorize)\n",
    "    return weighted_avg\n"
   ]
  },
  {
   "cell_type": "code",
   "execution_count": 10,
   "metadata": {},
   "outputs": [
    {
     "name": "stdout",
     "output_type": "stream",
     "text": [
      "   Unique Masked ID  Avg Grade Risk Category\n",
      "0        COH2020-01  95.620182          Safe\n",
      "1        COH2020-02  95.582909          Safe\n",
      "2        COH2020-03  86.571273    Borderline\n",
      "3        COH2020-04  98.034182          Safe\n",
      "4        COH2020-05  92.485636          Safe\n",
      "5        COH2020-06  95.842727          Safe\n",
      "6        COH2020-07  95.675818          Safe\n",
      "7        COH2020-08  95.878000          Safe\n",
      "8        COH2020-09  95.264909          Safe\n",
      "9        COH2020-10  92.919455          Safe\n",
      "10       COH2020-11  95.305273          Safe\n",
      "11       COH2020-12  98.107455          Safe\n",
      "12       COH2020-13  93.473091          Safe\n",
      "13       COH2020-14  94.119091          Safe\n",
      "14       COH2020-15  94.968364          Safe\n",
      "15       COH2020-16  96.046364          Safe\n",
      "16       COH2020-17  95.054364          Safe\n",
      "17       COH2020-18  93.305818          Safe\n",
      "18       COH2020-19  96.003636          Safe\n",
      "19       COH2020-20  92.583818          Safe\n",
      "20       COH2020-21  94.466000          Safe\n",
      "21       COH2020-22  94.106727          Safe\n",
      "22       COH2020-23  92.554727          Safe\n",
      "23       COH2020-24  90.811273          Safe\n",
      "24       COH2020-25  95.265818          Safe\n",
      "25       COH2020-26  97.264182          Safe\n",
      "26       COH2020-27  90.028727          Safe\n",
      "27       COH2020-28  96.212000          Safe\n",
      "28       COH2020-29  94.687091          Safe\n",
      "29       COH2020-30  95.662000          Safe\n"
     ]
    }
   ],
   "source": [
    "cohort_2020_flags = flag_at_risk_weighted(didactic1_df_merged)\n",
    "\n",
    "print(cohort_2020_flags[[\"Unique Masked ID\", \"Avg Grade\", \"Risk Category\"]])\n",
    "\n"
   ]
  },
  {
   "cell_type": "code",
   "execution_count": 11,
   "metadata": {},
   "outputs": [
    {
     "data": {
      "image/png": "[encoded data removed]",
      "text/plain": [
       "<Figure size 640x480 with 1 Axes>"
      ]
     },
     "metadata": {},
     "output_type": "display_data"
    }
   ],
   "source": [
    "import seaborn as sns\n",
    "import matplotlib.pyplot as plt\n",
    "\n",
    "sns.histplot(cohort_2020_flags[\"Avg Grade\"], bins=10, kde=True)\n",
    "plt.title(\"Weighted Average Grade Distribution (2020 Cohort)\")\n",
    "plt.xlabel(\"Weighted Avg Grade\")\n",
    "plt.ylabel(\"Number of Students\")\n",
    "plt.axvline(85, color=\"orange\", linestyle=\"--\", label=\"At Risk Cutoff\")\n",
    "plt.axvline(90, color=\"green\", linestyle=\"--\", label=\"Safe Cutoff\")\n",
    "plt.legend()\n",
    "plt.tight_layout()\n",
    "plt.show()\n"
   ]
  },
  {
   "cell_type": "code",
   "execution_count": null,
   "metadata": {},
   "outputs": [],
   "source": [
    "print(\"Min:\", cohort_2020_flags[\"Avg Grade\"].min())\n",
    "print(\"Max:\", cohort_2020_flags[\"Avg Grade\"].max())\n",
    "print(\"Mean:\", cohort_2020_flags[\"Avg Grade\"].mean())\n",
    "print(\"Std Dev:\", cohort_2020_flags[\"Avg Grade\"].std())\n"
   ]
  }
 ],
 "metadata": {
  "kernelspec": {
   "display_name": "Python (venv)",
   "language": "python",
   "name": "venv"
  },
  "language_info": {
   "codemirror_mode": {
    "name": "ipython",
    "version": 3
   },
   "file_extension": ".py",
   "mimetype": "text/x-python",
   "name": "python",
   "nbconvert_exporter": "python",
   "pygments_lexer": "ipython3",
   "version": "3.9.13"
  }
 },
 "nbformat": 4,
 "nbformat_minor": 2
}
